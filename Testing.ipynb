{
 "cells": [
  {
   "cell_type": "markdown",
   "metadata": {},
   "source": [
    "# __`POKE-ENV` RL MAIN NOTEBOOK__"
   ]
  },
  {
   "cell_type": "markdown",
   "metadata": {},
   "source": [
    "This notebook serves as an easy way to connect with the `pokemon-showdown-master` module. It will implement an RL approach to Pokemon battling on a local Pokemon Showdown server.\n",
    "\n",
    "> note: A Local Pokemon-Showdown server is required to run this code. for more details look [here](https://github.com/smogon/pokemon-showdown/blob/master/server/README.md)"
   ]
  },
  {
   "cell_type": "markdown",
   "metadata": {},
   "source": [
    "## These are the neccassary imports that are needed for the notebook to function as intended. \n",
    "use `pip install poke-env` to install poke-env\n",
    "\n",
    "`Create_teams.py` should be included in the repository and can be found [here](https://github.com/TrevorKWalker/Poke-AI)"
   ]
  },
  {
   "cell_type": "code",
   "execution_count": 1,
   "metadata": {},
   "outputs": [],
   "source": [
    "## These are the neccassary imports that are needed for the notebook to function as intended. \n",
    "from poke_env.player.player import Player\n",
    "from poke_env.ps_client.server_configuration import ServerConfiguration\n",
    "from poke_env import AccountConfiguration\n",
    "import asyncio\n",
    "import nest_asyncio \n",
    "import Create_teams\n"
   ]
  },
  {
   "cell_type": "markdown",
   "metadata": {},
   "source": [
    "### Global Constants\n",
    "These are globals that mainly relate to the server you are hosting, Check to ensure that they are correct for your system."
   ]
  },
  {
   "cell_type": "code",
   "execution_count": 2,
   "metadata": {},
   "outputs": [],
   "source": [
    "#name of the account for the Bot that you use. Should only neccassary for challenging Human players. \n",
    "my_account_config = AccountConfiguration(\"175bot\", \"pokeai\")\n",
    "\n",
    "# The address of the server that you are hosting. \n",
    "server_config = ServerConfiguration(\n",
    "        websocket_url=\"ws://localhost:8000/showdown/websocket\",  # WebSocket URL for your local server\n",
    "        authentication_url=\"http://localhost:8000\",           # Authentication URL (often the same as server URL)\n",
    "    )"
   ]
  },
  {
   "cell_type": "markdown",
   "metadata": {},
   "source": [
    "# Creating teams using `Create_teams.py`\n",
    "`create_teams` takes one parameter: `directory` which is the path to the folder containing the teams as seperate .txt files. Each team is in a seperate .txt file in pokemon showdown export format.\n",
    "Easiest way to make new teams is to use [pokemon showdown](https://play.pokemonshowdown.com/teambuilder) to create a team and then export it as text. \n",
    "The pokemon must be in the Pokemon Showdown format or the server will stall later due to the team getting rejected by the validater. "
   ]
  },
  {
   "cell_type": "code",
   "execution_count": null,
   "metadata": {},
   "outputs": [],
   "source": [
    "Competitive_teams = Create_teams.create_teams(\"./Teams/Competitive\")\n",
    "Num_competitive_teams = len(Competitive_teams)"
   ]
  },
  {
   "cell_type": "code",
   "execution_count": null,
   "metadata": {},
   "outputs": [
    {
     "name": "stderr",
     "output_type": "stream",
     "text": [
      "2024-11-21 23:40:16,177 - HumanChallengeBo 1 - ERROR - 'dict' object has no attribute 'websocket_url'\n",
      "Traceback (most recent call last):\n",
      "  File \"c:\\Users\\Trevor\\miniconda3\\envs\\cs178\\lib\\site-packages\\poke_env\\ps_client\\ps_client.py\", line 210, in listen\n",
      "    self.websocket_url,\n",
      "  File \"c:\\Users\\Trevor\\miniconda3\\envs\\cs178\\lib\\site-packages\\poke_env\\ps_client\\ps_client.py\", line 356, in websocket_url\n",
      "    return self.server_configuration.websocket_url\n",
      "AttributeError: 'dict' object has no attribute 'websocket_url'\n"
     ]
    },
    {
     "name": "stdout",
     "output_type": "stream",
     "text": [
      "Challenging human player: KingKylan\n"
     ]
    }
   ],
   "source": [
    "\n",
    "\n",
    "class MaxDamagePlayer(Player):\n",
    "    def choose_move(self, battle):\n",
    "        # Choose the move with the highest base power\n",
    "        if battle.available_moves:\n",
    "            best_move = max(battle.available_moves, key=lambda move: move.base_power)\n",
    "\n",
    "            # Terastallize if possible\n",
    "            if battle.can_tera:\n",
    "                return self.create_order(best_move, terastallize=True)\n",
    "\n",
    "            return self.create_order(best_move)\n",
    "        else:\n",
    "            return self.choose_random_move(battle)\n",
    "\n",
    "\n",
    "\n",
    "\n",
    "if __name__ == \"__main__\":\n",
    "    async def main():\n",
    "        # Initialize the bot and specify custom server configuration\n",
    "        bot = HumanChallengeBot(\n",
    "            server_configuration={\n",
    "                \"host\": \"localhost\",\n",
    "                \"port\": 8000,\n",
    "            }\n",
    "        )\n",
    "\n",
    "        # Challenge the human player\n",
    "        await bot.start_battle(opponent_username=\"KingKylan\")\n",
    "    nest_asyncio.apply()\n",
    "    await main()"
   ]
  }
 ],
 "metadata": {
  "kernelspec": {
   "display_name": "cs178",
   "language": "python",
   "name": "python3"
  },
  "language_info": {
   "codemirror_mode": {
    "name": "ipython",
    "version": 3
   },
   "file_extension": ".py",
   "mimetype": "text/x-python",
   "name": "python",
   "nbconvert_exporter": "python",
   "pygments_lexer": "ipython3",
   "version": "3.10.14"
  }
 },
 "nbformat": 4,
 "nbformat_minor": 2
}
