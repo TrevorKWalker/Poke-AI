{
 "cells": [
  {
   "cell_type": "markdown",
   "metadata": {},
   "source": [
    "# __`POKE-ENV` RL MAIN NOTEBOOK__"
   ]
  },
  {
   "cell_type": "markdown",
   "metadata": {},
   "source": [
    "This notebook serves as an easy way to connect with the `pokemon-showdown-master` module. It will implement an RL approach to Pokemon battling on a local Pokemon Showdown server.\n",
    "\n",
    "> note: A Local Pokemon-Showdown server is required to run this code. for more details look [here](https://github.com/smogon/pokemon-showdown/blob/master/server/README.md)"
   ]
  },
  {
   "cell_type": "markdown",
   "metadata": {},
   "source": [
    "## These are the neccassary imports that are needed for the notebook to function as intended. \n",
    "use `pip install poke-env` to install poke-env\n",
    "\n",
    "`Create_teams.py` should be included in the repository and can be found [here](https://github.com/TrevorKWalker/Poke-AI)"
   ]
  },
  {
   "cell_type": "code",
   "execution_count": 2,
   "metadata": {},
   "outputs": [],
   "source": [
    "## These are the neccassary imports that are needed for the notebook to function as intended. \n",
    "from poke_env.player.player import Player\n",
    "from poke_env import RandomPlayer\n",
    "from poke_env.ps_client.server_configuration import ServerConfiguration\n",
    "from poke_env import AccountConfiguration\n",
    "import asyncio\n",
    "import nest_asyncio \n",
    "import Create_teams\n"
   ]
  },
  {
   "cell_type": "markdown",
   "metadata": {},
   "source": [
    "### Global Constants\n",
    "These are globals that mainly relate to the server you are hosting, Check to ensure that they are correct for your system."
   ]
  },
  {
   "cell_type": "code",
   "execution_count": 3,
   "metadata": {},
   "outputs": [],
   "source": [
    "#name of the account for the Bot that you use. Should only neccassary for challenging Human players. \n",
    "my_account_config = AccountConfiguration(\"175bot\", \"pokeai\")\n",
    "\n",
    "# The address of the server that you are hosting. \n",
    "server_config = ServerConfiguration(\n",
    "        websocket_url=\"ws://localhost:8000/showdown/websocket\",  # WebSocket URL for your local server\n",
    "        authentication_url=\"http://localhost:8000\",           # Authentication URL (often the same as server URL)\n",
    "    )"
   ]
  },
  {
   "cell_type": "markdown",
   "metadata": {},
   "source": [
    "# Making a player for a gen 9 random battle\n",
    "\n",
    "we must make 2 players and then we can have them battle against each other. we will create Random players from poke-env. \n",
    "battle_against allows us to have one bot send another bot a challenge and battle. it takes parameters : `oppenent : str` and `n_batttles` : `int`\n",
    "by using RandomPlayer having these two battle will cause a gen 9 random battle ( at the time of writing)\n",
    "\n",
    "If the code runs the outcome will be visable on the local server that is being hosted. "
   ]
  },
  {
   "cell_type": "code",
   "execution_count": 5,
   "metadata": {},
   "outputs": [],
   "source": [
    "player_1 = RandomPlayer()\n",
    "player_2 = RandomPlayer()\n",
    "await player_1.battle_against(player_2, n_battles=1)"
   ]
  },
  {
   "cell_type": "markdown",
   "metadata": {},
   "source": [
    "# Creating teams using `Create_teams.py`\n",
    "`create_teams` takes one parameter: `directory` which is the path to the folder containing the teams as seperate .txt files. Each team is in a seperate .txt file in pokemon showdown export format.\n",
    "Easiest way to make new teams is to use [pokemon showdown](https://play.pokemonshowdown.com/teambuilder) to create a team and then export it as text. \n",
    "The pokemon must be in the Pokemon Showdown format or the server will stall later due to the team getting rejected by the validater.\n",
    "Depending on the teams that you make you may need to change the `battle_format` in the future sections. "
   ]
  },
  {
   "cell_type": "code",
   "execution_count": 4,
   "metadata": {},
   "outputs": [],
   "source": [
    "#competitive teams that are taken from past top placing teams in format H\n",
    "Competitive_teams = Create_teams.create_teams(\"./Teams/Competitive\")\n",
    "Num_competitive_teams = len(Competitive_teams)\n",
    "\n",
    "\n",
    "# Teams of pokemon that are set to lvl 50. All teams of 3 from different generations with movesets they would have at lvl 15 (lvl 15 was chosen because that is the average lvl cap of the first gym in nuzlockes.)\n",
    "Early_game_teams = Create_teams.create_teams(\"./Teams/In-Game/Early_game\")\n",
    "Num_early_game_teams = len(Early_game_teams)"
   ]
  },
  {
   "cell_type": "markdown",
   "metadata": {},
   "source": [
    "## Making Custom Player Class\n",
    "\n",
    " To start we will use `MaxDamagePlayer` which is a simple player that always chooses the highest base power move. This is the most basic that is possible and only being used to better understand the Poke-env module"
   ]
  },
  {
   "cell_type": "code",
   "execution_count": 5,
   "metadata": {},
   "outputs": [],
   "source": [
    "\n",
    "class MaxDamagePlayer(Player):\n",
    "    def choose_move(self, battle):\n",
    "        # Choose the move with the highest base power\n",
    "        if battle.available_moves:\n",
    "            best_move = max(battle.available_moves, key=lambda move: move.base_power)\n",
    "\n",
    "            # Terastallize if possible\n",
    "            if battle.can_tera:\n",
    "                return self.create_order(best_move, terastallize=True)\n",
    "\n",
    "            return self.create_order(best_move)\n",
    "        else:\n",
    "            return self.choose_random_move(battle)\n",
    "    def choose_team_preview(self, battle):\n",
    "        \n",
    "        # For simplicity, send the first Pokémon in the team\n",
    "        return \"/team 1\"\n"
   ]
  },
  {
   "cell_type": "markdown",
   "metadata": {},
   "source": [
    "### Creating a player for `MaxDamagePlayer`\n",
    "\n",
    "To be able to create a player that uses `MaxDamagePlayer` and is able to battle with one of our teams we must assign it a battle format that is not random battles. availible battle formats are found in `config/formats.ts`\n",
    "All `competitive` teams are able to be played in Gen9 OU but because `In-Game` teams need Gen9balancedhackmons we will be using that."
   ]
  },
  {
   "cell_type": "code",
   "execution_count": 8,
   "metadata": {},
   "outputs": [],
   "source": [
    "#create player_1 with the right battle_format and  give them a team\n",
    "player_1 = MaxDamagePlayer(battle_format=\"gen9balancedhackmons\", team = Early_game_teams[0])\n",
    "\n",
    "\n",
    "#create player_2 with the right battle_format and  give them a team\n",
    "player_2 = MaxDamagePlayer( battle_format=\"gen9balancedhackmons\", team = Early_game_teams[1])\n",
    "\n",
    "\n",
    "# Have them battle. check the local server to see results\n",
    "await player_1.battle_against(player_2, n_battles=1)\n"
   ]
  },
  {
   "cell_type": "markdown",
   "metadata": {},
   "source": [
    "# Challenging the Human\n",
    "\n",
    "This section will cover how to send a challenge to a Human player. The Human must also be on an account that is connected to the local server. we will use send_challenges which is similar to battle against but for Humans. \n",
    "\n",
    "IMPORTANT: The human is required to have a team that is the same size as the agent of the game will hang indefinitely."
   ]
  },
  {
   "cell_type": "code",
   "execution_count": null,
   "metadata": {},
   "outputs": [],
   "source": [
    "#create the agent in the same way\n",
    "player_1 = MaxDamagePlayer(battle_format=\"gen9balancedhackmons\", team = Early_game_teams[0])\n",
    "\n",
    "\n",
    "# change oppenent to your pokemon showdown account name.\n",
    "await player_1.send_challenges(opponent=\"KingKylan\", n_challenges=1)"
   ]
  }
 ],
 "metadata": {
  "kernelspec": {
   "display_name": "cs178",
   "language": "python",
   "name": "python3"
  },
  "language_info": {
   "codemirror_mode": {
    "name": "ipython",
    "version": 3
   },
   "file_extension": ".py",
   "mimetype": "text/x-python",
   "name": "python",
   "nbconvert_exporter": "python",
   "pygments_lexer": "ipython3",
   "version": "3.10.14"
  }
 },
 "nbformat": 4,
 "nbformat_minor": 2
}
